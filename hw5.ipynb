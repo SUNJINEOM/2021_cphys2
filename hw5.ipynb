{
 "cells": [
  {
   "cell_type": "code",
   "execution_count": 1,
   "metadata": {},
   "outputs": [],
   "source": [
    "import numpy as np\n",
    "import matplotlib.pyplot as plt"
   ]
  },
  {
   "cell_type": "code",
   "execution_count": 2,
   "metadata": {},
   "outputs": [],
   "source": [
    "def f(x): \n",
    "    return 1/(1+np.exp(-x))"
   ]
  },
  {
   "cell_type": "code",
   "execution_count": 3,
   "metadata": {},
   "outputs": [],
   "source": [
    "X = [[0,0,1],[1,0,1],[0,1,1],[1,1,1]]\n",
    "y = [0,1,1,0]"
   ]
  },
  {
   "cell_type": "code",
   "execution_count": 4,
   "metadata": {},
   "outputs": [],
   "source": [
    "inputs, hiddens, outputs = 3,4,1\n",
    "np.random.seed(1)\n",
    "w = 2*np.random.random((inputs,hiddens))-1\n",
    "omega = 2*np.random.random((hiddens,outputs))-1"
   ]
  },
  {
   "cell_type": "code",
   "execution_count": 7,
   "metadata": {},
   "outputs": [],
   "source": [
    "for i in range(4):\n",
    "    neth=np.dot(X[i],w) \n",
    "    h = f(neth)\n",
    "    neto=np.dot(h,omega)\n",
    "    o = f(neto)"
   ]
  },
  {
   "cell_type": "code",
   "execution_count": 5,
   "metadata": {},
   "outputs": [
    {
     "data": {
      "text/plain": [
       "array([0.00044546])"
      ]
     },
     "execution_count": 5,
     "metadata": {},
     "output_type": "execute_result"
    }
   ],
   "source": [
    "dh=[0,0,0,0]\n",
    "eta=1\n",
    "for n in range(10000):\n",
    "    E=0 # error_sum\n",
    "    for i in range(4):\n",
    "        neth=np.dot(X[i],w) \n",
    "        h = f(neth)\n",
    "        neto=np.dot(h,omega) \n",
    "        o = f(neto)\n",
    "        \n",
    "        E = E + (o-y[i])**2\n",
    "        do=(o-y[i])*f(neto)*(1-f(neto))\n",
    "        for j in range(4):\n",
    "            dh[j]=do*omega[j]*f(neth[j])*(1-f(neth[j]))\n",
    "            omega[j]=omega[j]-eta*do*h[j]\n",
    "            for k in range(3):\n",
    "                w[k][j]=w[k][j]-eta*dh[j]*X[i][k]\n",
    "E"
   ]
  },
  {
   "cell_type": "code",
   "execution_count": 9,
   "metadata": {},
   "outputs": [
    {
     "name": "stdout",
     "output_type": "stream",
     "text": [
      "[0.00651827]\n",
      "[0.9894139]\n",
      "[0.99071994]\n",
      "[0.01430354]\n"
     ]
    }
   ],
   "source": [
    "for i in range(4):\n",
    "    neth=np.dot(X[i],w) \n",
    "    h = f(neth)\n",
    "    neto=np.dot(h,omega)\n",
    "    o = f(neto)\n",
    "    print(o)"
   ]
  },
  {
   "cell_type": "code",
   "execution_count": 10,
   "metadata": {},
   "outputs": [
    {
     "data": {
      "text/plain": [
       "(array([[ 2.35603244,  4.41958143, -6.15235168, -6.33134315],\n",
       "        [ 0.61286955, -6.82944491, -6.20002118,  2.86018093],\n",
       "        [-1.11258573, -1.72172626,  2.08016084, -0.71621427]]),\n",
       " array([0.01430354]))"
      ]
     },
     "execution_count": 10,
     "metadata": {},
     "output_type": "execute_result"
    }
   ],
   "source": [
    "w,o"
   ]
  },
  {
   "cell_type": "code",
   "execution_count": null,
   "metadata": {},
   "outputs": [],
   "source": []
  }
 ],
 "metadata": {
  "kernelspec": {
   "display_name": "Python 3",
   "language": "python",
   "name": "python3"
  },
  "language_info": {
   "codemirror_mode": {
    "name": "ipython",
    "version": 3
   },
   "file_extension": ".py",
   "mimetype": "text/x-python",
   "name": "python",
   "nbconvert_exporter": "python",
   "pygments_lexer": "ipython3",
   "version": "3.8.5"
  }
 },
 "nbformat": 4,
 "nbformat_minor": 4
}
